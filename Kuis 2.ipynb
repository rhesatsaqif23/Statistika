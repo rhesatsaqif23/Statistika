{
  "nbformat": 4,
  "nbformat_minor": 0,
  "metadata": {
    "colab": {
      "provenance": [],
      "authorship_tag": "ABX9TyNoeRxf3qg9sH65BpkqX4su",
      "include_colab_link": true
    },
    "kernelspec": {
      "name": "python3",
      "display_name": "Python 3"
    },
    "language_info": {
      "name": "python"
    }
  },
  "cells": [
    {
      "cell_type": "markdown",
      "metadata": {
        "id": "view-in-github",
        "colab_type": "text"
      },
      "source": [
        "<a href=\"https://colab.research.google.com/github/rhesatsaqif23/Statistika/blob/main/Kuis%202.ipynb\" target=\"_parent\"><img src=\"https://colab.research.google.com/assets/colab-badge.svg\" alt=\"Open In Colab\"/></a>"
      ]
    },
    {
      "cell_type": "code",
      "execution_count": 1,
      "metadata": {
        "colab": {
          "base_uri": "https://localhost:8080/"
        },
        "id": "zx_ljy1i_RXV",
        "outputId": "b4efd52c-b311-47de-ab0b-568deeed05d0"
      },
      "outputs": [
        {
          "output_type": "stream",
          "name": "stdout",
          "text": [
            "Data: [1, 2, 3, 4, 5, 6, 7, 8, 9, 10, 2]\n",
            "Mean (Rata-rata): 5.18182\n",
            "Median (Nilai tengah): 5\n",
            "Mode (Nilai yang paling sering muncul): 2\n",
            "Standard Deviation (Standar Deviasi): 3.06001\n",
            "Variance (Variansi): 9.36364\n"
          ]
        }
      ],
      "source": [
        "import pandas as pd\n",
        "import numpy as np\n",
        "from scipy import stats\n",
        "\n",
        "# Baca data dari file CSV\n",
        "df = pd.read_csv('climate_data.csv')  # Sesuaikan dengan nama file Anda\n",
        "\n",
        "# Ambil kolom yang berisi data suhu maksimum\n",
        "tx_data = df['Tx']  # Ganti 'Tx' dengan nama kolom yang sesuai di CSV Anda\n",
        "\n",
        "# Hitung rata-rata dan standar deviasi\n",
        "mean_tx = np.mean(tx_data)\n",
        "std_tx = np.std(tx_data, ddof=1)  # ddof=1 untuk sampel standar deviasi\n",
        "\n",
        "# Jumlah sampel\n",
        "n = len(tx_data)\n",
        "\n",
        "# Tingkat kepercayaan\n",
        "confidence_level = 0.803\n",
        "\n",
        "# Hitung nilai alpha\n",
        "alpha = 1 - confidence_level\n",
        "\n",
        "# Distribusi t untuk interval kepercayaan (karena n kecil atau sigma tidak diketahui)\n",
        "t_critical = stats.t.ppf(1 - alpha/2, df=n-1)\n",
        "\n",
        "# Margin of error\n",
        "margin_of_error = t_critical * (std_tx / np.sqrt(n))\n",
        "\n",
        "# Interval kepercayaan\n",
        "ci_lower = mean_tx - margin_of_error\n",
        "ci_upper = mean_tx + margin_of_error\n",
        "\n",
        "print(f\"Rata-rata suhu maksimum: {mean_tx:.2f}\")\n",
        "print(f\"Interval kepercayaan 80.3%: ({ci_lower:.2f}, {ci_upper:.2f})\")\n"
      ]
    }
  ]
}